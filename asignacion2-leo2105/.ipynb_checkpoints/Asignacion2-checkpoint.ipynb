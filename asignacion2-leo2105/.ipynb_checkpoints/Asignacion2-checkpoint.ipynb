{
 "cells": [
  {
   "cell_type": "markdown",
   "metadata": {
    "deletable": true,
    "editable": true
   },
   "source": [
    "# Asignación 2"
   ]
  },
  {
   "cell_type": "markdown",
   "metadata": {
    "deletable": true,
    "editable": true
   },
   "source": [
    "1 .Creamos un un conjunto aleatorio de 30 puntos en un plano de dos dimensiones. Usamos la convención `30 x2`:"
   ]
  },
  {
   "cell_type": "code",
   "execution_count": null,
   "metadata": {
    "collapsed": false,
    "deletable": true,
    "editable": true
   },
   "outputs": [],
   "source": [
    "import numpy as np\n",
    "import matplotlib.pyplot as plt\n",
    "import seaborn; seaborn.set()\n",
    "\n",
    "X = np.random.rand(30, 2)\n",
    "plt.scatter(X[:, 0], X[:, 1], s=100)\n",
    "plt.show()"
   ]
  },
  {
   "cell_type": "markdown",
   "metadata": {
    "deletable": true,
    "editable": true
   },
   "source": [
    "Escribe un programa  o sentencias en Python-Numpy  que, calcula la distancia, entre cada par de puntos. Utiliza broadcasting y aggregation."
   ]
  },
  {
   "cell_type": "code",
   "execution_count": null,
   "metadata": {
    "collapsed": false
   },
   "outputs": [],
   "source": [
    "# Naive way\n",
    "for i, (x1, y1) in enumerate(X):\n",
    "    for j, (x2, y2) in enumerate(X):\n",
    "        if i < j:\n",
    "            punto1 = np.array([x1, y1])\n",
    "            punto2 = np.array([x2, y2])\n",
    "            print(\"Distancia %d a %d: %f\" %(i, j, np.sqrt((punto1[0]-punto2[0])**2 + (punto1[1] - punto2[1])**2)))\n",
    "            \n",
    "# Usando broadcasting y agregacion\n",
    "dat = np.empty([30, 30]) # Cada celda (i, j) es la distancia desde el punto i al j\n",
    "for i, (x, y) in enumerate(X):\n",
    "    diff = X[:] - [x,y]\n",
    "    dat[i, :] = np.sqrt(diff[:, 0]**2 + diff[:, 1] ** 2)\n",
    "\n",
    "dat"
   ]
  },
  {
   "cell_type": "markdown",
   "metadata": {
    "deletable": true,
    "editable": true
   },
   "source": [
    "Escribe una sentencia, para calcular la diferencia y el cuadrado de sus coordenadas. Suma las diferencias de las coordenadas al cuadrado, para conseguir la distancia cuadrada."
   ]
  },
  {
   "cell_type": "code",
   "execution_count": null,
   "metadata": {
    "collapsed": false,
    "deletable": true,
    "editable": true
   },
   "outputs": [],
   "source": [
    "# Tu codigo\n",
    "dat2 = np.empty([30, 30]) # Cada celda (i, j) es la distancia desde el punto i al j\n",
    "for i, (x, y) in enumerate(X):\n",
    "    dat2[i, :] = np.sqrt(((X[:]-[x,y])[:, 0])**2 + ((X[:]-[x,y])[:, 1]) ** 2)\n",
    "dat2"
   ]
  },
  {
   "cell_type": "markdown",
   "metadata": {
    "deletable": true,
    "editable": true
   },
   "source": [
    "Comprueba lo que se estás  haciendo, analizando la  diagonal de esta matriz."
   ]
  },
  {
   "cell_type": "code",
   "execution_count": null,
   "metadata": {
    "collapsed": false,
    "deletable": true,
    "editable": true
   },
   "outputs": [],
   "source": [
    "# Codigo\n",
    "# La diagonal de la matriz es igual a cero ya que la distancia desde un\n",
    "# punto a otro punto es nula.\n",
    "# La matriz es simetrica ya que cada celda (x, y) es igual a la celda(y, x), es decir, la distancia del punto x\n",
    "# al punto y es igual a la distancia del punto y al punto x.\n",
    "np.trace(dat2)"
   ]
  },
  {
   "cell_type": "markdown",
   "metadata": {
    "deletable": true,
    "editable": true
   },
   "source": [
    "Con la distancia establecida, usa `np.argsort`  para ordenar a lo largo de cada fila. Las columnas más a la izquierda darán entonces los índices de los vecinos más próximos."
   ]
  },
  {
   "cell_type": "code",
   "execution_count": null,
   "metadata": {
    "collapsed": false,
    "deletable": true,
    "editable": true
   },
   "outputs": [],
   "source": [
    "# codigo\n",
    "#dat2\n",
    "orden = np.argsort(dat2, axis=1)\n",
    "orden\n",
    "\n",
    "# Vemos que los elementos de la columna 1 estan ordenados ascendentementes."
   ]
  },
  {
   "cell_type": "markdown",
   "metadata": {
    "deletable": true,
    "editable": true
   },
   "source": [
    "Si todo esta ocurriendo como se espera, debes observar que la primera columna da los números   ordenados: esto se debe al hecho de que el vecino más cercano de cada punto es el mismo, como cabría esperar.\n",
    "\n",
    "Si  estamos interesados en los `k` vecinos más cercanos, todo lo que necesitamos es dividir cada fila de manera que las  `k + 1` distancias  cuadradas más pequeñas vienen primero, con distancias mayores llenando las posiciones restantes de la matriz. Realiza esta operación utilizando la función `np.argpartition`:"
   ]
  },
  {
   "cell_type": "code",
   "execution_count": null,
   "metadata": {
    "collapsed": false,
    "deletable": true,
    "editable": true,
    "scrolled": true
   },
   "outputs": [],
   "source": [
    "# Tu codigo\n",
    "k = 2 \n",
    "may = np.argpartition(dat2, k, axis=1)[:, :k+1]\n",
    "print(may)\n",
    "dat2[np.arange(dat2.shape[0])[:, None], may]\n"
   ]
  },
  {
   "cell_type": "markdown",
   "metadata": {
    "deletable": true,
    "editable": true
   },
   "source": [
    "Con el fin de visualizar esta red de vecinos, grafica los puntos junto con las líneas que representan las conexiones de cada punto a sus dos vecinos más cercanos. Un ejemplo es:\n",
    "\n",
    "![](k-vecinos.png)"
   ]
  },
  {
   "cell_type": "code",
   "execution_count": null,
   "metadata": {
    "collapsed": false
   },
   "outputs": [],
   "source": [
    "# Grafico\n",
    "import numpy as np\n",
    "import matplotlib.pyplot as plt\n",
    "import seaborn; seaborn.set()\n",
    "\n",
    "plt.scatter(X[:, 0], X[:, 1], s=100)\n",
    "\n",
    "for i in np.arange(may.shape[0]):\n",
    "    p_base = X[i]\n",
    "    for j in np.arange(may.shape[1]):\n",
    "        punto2 = may[i, j];\n",
    "        p_dest = X[punto2]       \n",
    "        plt.plot([p_base[0], p_dest[0]],[p_base[1],p_dest[1]], 'k-')\n",
    "            \n",
    "plt.show()"
   ]
  },
  {
   "cell_type": "markdown",
   "metadata": {
    "deletable": true,
    "editable": true
   },
   "source": [
    "Presenta un reporte de este procedimiento de Numpy y el implementado en [Scikit-learn sobre KD-Tree](http://scikit-learn.org/stable/modules/generated/sklearn.neighbors.KDTree.html)."
   ]
  },
  {
   "cell_type": "code",
   "execution_count": null,
   "metadata": {
    "collapsed": false
   },
   "outputs": [],
   "source": [
    "from sklearn.neighbors import KDTree\n",
    "import numpy as np\n",
    "import matplotlib.pyplot as plt\n",
    "import seaborn; seaborn.set()\n",
    "\n",
    "np.random.seed(0) # Se elige una semilla inicial\n",
    "tree = KDTree(X, leaf_size=2) # Le pasamos el dataset y al leaf_size\n",
    "                              # el cual puede que nos mejore el tiempo\n",
    "                              # de cada query y la memoria para cada\n",
    "                              # arbol contruido.\n",
    "dist, ind = tree.query(X, k=3) # En esta query le pasamos toda la data\n",
    "                               # de entrenamiento que la vamos a usar\n",
    "                               # como data de testeo y el valor de k\n",
    "                               # que indica la cantidad de vecinos\n",
    "\n",
    "# Graficar los puntos y las rectas\n",
    "plt.scatter(X[:, 0], X[:, 1], s=100)\n",
    "\n",
    "for i in np.arange(ind.shape[0]):\n",
    "    p_base = X[i]\n",
    "    for j in np.arange(ind.shape[1]):\n",
    "        punto2 = ind[i, j];\n",
    "        p_dest = X[punto2]       \n",
    "        plt.plot([p_base[0], p_dest[0]],[p_base[1],p_dest[1]], 'k-')\n",
    "            \n",
    "plt.show()\n"
   ]
  },
  {
   "cell_type": "markdown",
   "metadata": {
    "collapsed": false
   },
   "source": [
    "### Reporte de la implementacion en NumPy\n",
    "#### k = 5\n",
    "Seleccionamos la cantidad de vecinos mas cercanos\n",
    "#### may = np.argpartition(dat2, k, axis=1)[:, :k+1]\n",
    "Primero, se posiciona en la posicion k el valor de la fila ordenada.\n",
    "\n",
    "Segundo, se colocan del 0 .. k-1 los valores menores al valor de la posicion k.\n",
    "\n",
    "Tercero, se colocan del k+1 .. n-1 los valores mayores al valor de la posicion k.\n",
    "\n",
    "axis=1 indica que se va a trabajar sobre las filas.\n",
    "\n",
    "Luego, nos devuelven los indices del array con las restricciones mencionadas arriba.\n",
    "\n",
    "Al final, se seleccionar los indices para todas las filas y, las k vecinos mas cercanos y si mismo.\n",
    "\n",
    "#### dat2[np.arange(dat2.shape[0])[:, None], may]\n",
    "Primero, se crea un arreglo unidimensional de 30 elementos (0 ... 29).\n",
    "\n",
    "Segundo, se redimensiona a un arreglo bidimensional de 30x1.\n",
    "\n",
    "Luego, se toma como filas de 0 a 29 y se toma como columnas a las posiciones del arreglo may."
   ]
  },
  {
   "cell_type": "markdown",
   "metadata": {
    "deletable": true,
    "editable": true
   },
   "source": [
    "Esta pregunta es un adelanto a lo que viene, sobre  extraer datos  de un archivo `HTML`, `XML`, `CSV` o `JSON`, o incluso de texto sin formato. Asumiendo que conocemos  las etiquetas de `HTML` y `XML` y su estructura  y  como  separar las etiquetas de los datos y normalizar las palabras (Sino lo sabes ¡Vamos a practicar!) "
   ]
  },
  {
   "cell_type": "markdown",
   "metadata": {
    "deletable": true,
    "editable": true
   },
   "source": [
    "2 .Escriba un programa que, dado el  `URL` de una página web, reporte los nombres y destinos de `enlaces caidos` en la página. Para el propósito de este ejercicio, se dice que un enlace está caido, si falla el intento de abrirlo con `urllib.request.urlopen()`."
   ]
  },
  {
   "cell_type": "code",
   "execution_count": null,
   "metadata": {
    "collapsed": false,
    "deletable": true,
    "editable": true
   },
   "outputs": [],
   "source": [
    "# Tu codigo\n",
    "import urllib.request, urllib.error\n",
    "import re\n",
    "\n",
    "try:\n",
    "    with urllib.request.urlopen(\"http://python.org/\") as doc:\n",
    "        # Guardamos el contenido de la pag en html\n",
    "        html = doc.read()\n",
    "        html_str = html.decode()\n",
    "\n",
    "except: \n",
    "    # Al momento de no poder abrir el link\n",
    "    print(\"No se puede abrir el archivo %s\" % doc, file=sys.err)\n",
    "\n",
    "\n",
    "links = re.findall(r'href=[\\'\"]?([^\\'\" >]+)', html_str)\n",
    "urls = re.findall('http[s]?://(?:[a-zA-Z]|[0-9]|[$-_@.&+]|[!*\\(\\),]|(?:%[0-9a-fA-F][0-9a-fA-F]))+', ' '.join(links))\n",
    "\n",
    "for link in urls:\n",
    "    try:\n",
    "        conn = urllib.request.urlopen(link)\n",
    "        data = conn.read()\n",
    "        conn.close()\n",
    "    except urllib.error.HTTPError as e:\n",
    "        # Retorna 404 error, es lo mas comun.\n",
    "        print(link + \" \" + str(e.code) + \" error\")\n",
    "    except urllib.error.URLError as e:\n",
    "        # Conexion rechazada\n",
    "        print(link + \" \" + 'URLError')\n",
    "    else:\n",
    "        # Exito\n",
    "        print(link + \" \" + 'Bien')"
   ]
  },
  {
   "cell_type": "markdown",
   "metadata": {
    "deletable": true,
    "editable": true
   },
   "source": [
    "3 . [MediaWiki](https://www.mediawiki.org/wiki/API:Main_page) proporciona una API basada en JSON que permite el acceso programable a  datos de  Wikipedia. Escribe un programa que reporte los diez [stems][https://en.wikipedia.org/wiki/Science,_technology,_engineering,_and_mathematics] más frecuentemente usados en la página de Wikipedia titulada \"Data science\".\n",
    "\n",
    "* Usa HTTP y no HTTPS\n",
    "* Lee el archivo *Un ejemplo simple* o en inglés *simple example* de la página de [MediaWiki](https://www.mediawiki.org/wiki/API:Main_page) y útilizalo en la base de tu programa.\n",
    "* Primero, obtenga el ID de la página por título, luego obtenga la página por su ID.\n",
    "* Explora visualmente los datos JSON, especialmente las claves en los diferentes niveles de jerarquía."
   ]
  },
  {
   "cell_type": "code",
   "execution_count": null,
   "metadata": {
    "collapsed": true,
    "deletable": true,
    "editable": true
   },
   "outputs": [],
   "source": [
    "# Tu codigo"
   ]
  },
  {
   "cell_type": "markdown",
   "metadata": {
    "deletable": true,
    "editable": true
   },
   "source": [
    "3 . Escribe un programa que usa Wikipedia para calcular la similitud semántica entre diferentes géneros de música `rock/ pop`. Comienza con la lista de [grupos musicales principales por género](https://en.wikipedia.org/wiki/Category:Rock_music_groups_by_genre)(ten en cuenta que esta lista es jerárquica y contiene subcategorías.). Procesa recursivamente la lista y  hasta encontrar todos los grupos relevantes (puede restringir tu exploración para seleccionar subcategorías, como los grupos de rock británicos, para ahorrar tiempo y tráfico). Para cada grupo encontrado, extraiga los géneros, si es posible. Usa el índice de similitud [Jaccard](https://en.wikipedia.org/wiki/Jaccard_index) como una medida de similitud semántica. Por cierto, ¿cuántos géneros están ahí fuera y cuáles son los géneros más relacionados?."
   ]
  },
  {
   "cell_type": "code",
   "execution_count": null,
   "metadata": {
    "collapsed": true,
    "deletable": true,
    "editable": true
   },
   "outputs": [],
   "source": [
    "# Tu codigo"
   ]
  },
  {
   "cell_type": "markdown",
   "metadata": {
    "deletable": true,
    "editable": true
   },
   "source": [
    "4 .Escriba un programa Python que, para cada palabra en un archivo dado, registre la palabra en sí, su número ordinal en el archivo (a partir de 1) y el [etiquetado (part-of-speech tagging)](http://www.nltk.org/book/ch05.html) en una base de datos MySQL. Utilice `NLTK WordPunctTokenizer`  para reconocer palabras. Suponga que las palabras son lo suficientemente cortas como para caber en el tipo de datos `TINYTEXT MySQL`. Diseñe el esquema de base de datos, cree todas las tablas necesarias y juegue con ellas a través de la interfaz de línea de comandos antes de iniciar cualquier codificación de Python."
   ]
  },
  {
   "cell_type": "code",
   "execution_count": null,
   "metadata": {
    "collapsed": true,
    "deletable": true,
    "editable": true
   },
   "outputs": [],
   "source": [
    "# Tu codigo"
   ]
  },
  {
   "cell_type": "markdown",
   "metadata": {
    "deletable": true,
    "editable": true
   },
   "source": [
    "5 . La sentencia de `MySQL` `DESCRIBE table_name`, realiza un reporte de los nombres, tipos de datos, restricciones, valores predeterminados, etc,  de todas las columnas en una tabla. Escribe un programa Python que transfiera todos los datos de una tabla MySQL (designada por el usuario) a un documento `MongoDB`. El programa no debe modificar los timestamps."
   ]
  },
  {
   "cell_type": "code",
   "execution_count": null,
   "metadata": {
    "collapsed": true,
    "deletable": true,
    "editable": true
   },
   "outputs": [],
   "source": [
    "# Tu codigo.."
   ]
  },
  {
   "cell_type": "code",
   "execution_count": null,
   "metadata": {
    "collapsed": true
   },
   "outputs": [],
   "source": []
  }
 ],
 "metadata": {
  "anaconda-cloud": {},
  "kernelspec": {
   "display_name": "Python [default]",
   "language": "python",
   "name": "python3"
  },
  "language_info": {
   "codemirror_mode": {
    "name": "ipython",
    "version": 3
   },
   "file_extension": ".py",
   "mimetype": "text/x-python",
   "name": "python",
   "nbconvert_exporter": "python",
   "pygments_lexer": "ipython3",
   "version": "3.5.2"
  }
 },
 "nbformat": 4,
 "nbformat_minor": 1
}
